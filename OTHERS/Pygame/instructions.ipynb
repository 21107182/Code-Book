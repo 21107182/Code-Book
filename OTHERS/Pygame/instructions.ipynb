{
 "cells": [
  {
   "cell_type": "markdown",
   "id": "aa06153a",
   "metadata": {},
   "source": [
    "**This is a map of buildings (mainly skyscrapers) in la defense.**\n",
    "\n",
    "**This map have two modes:**\n",
    "\n",
    "* Press key **M** to switch to **MAP MODE**, in this mode you can:\n",
    "    * Select a building and display its information and image by pressing the **left mouse button**.\n",
    "    * Stop displaying information by pressing the **right mouse button**.\n",
    "    \n",
    "    \n",
    "* Press key **C** to switch to **CONTRAST MODE**, in this mode you can:\n",
    "    * Select no more than 3 buildings and compare their information by pressing the **left mouse button**.\n",
    "    * Stop comparing by pressing the **right mouse button**."
   ]
  }
 ],
 "metadata": {
  "kernelspec": {
   "display_name": "Python 3 (ipykernel)",
   "language": "python",
   "name": "python3"
  },
  "language_info": {
   "codemirror_mode": {
    "name": "ipython",
    "version": 3
   },
   "file_extension": ".py",
   "mimetype": "text/x-python",
   "name": "python",
   "nbconvert_exporter": "python",
   "pygments_lexer": "ipython3",
   "version": "3.9.7"
  }
 },
 "nbformat": 4,
 "nbformat_minor": 5
}
